{
 "cells": [
  {
   "cell_type": "markdown",
   "id": "2418400f",
   "metadata": {},
   "source": [
    "# What is Seaborn ?"
   ]
  },
  {
   "cell_type": "code",
   "execution_count": 1,
   "id": "376ffd30",
   "metadata": {},
   "outputs": [],
   "source": [
    "# Seaborn is a python library for data visualization build \n",
    "# on top of matplotlib Python library.\n"
   ]
  },
  {
   "cell_type": "code",
   "execution_count": 2,
   "id": "c12264ed",
   "metadata": {},
   "outputs": [],
   "source": [
    "# It is used for statistical graphic "
   ]
  },
  {
   "cell_type": "code",
   "execution_count": 3,
   "id": "3188e3f1",
   "metadata": {},
   "outputs": [],
   "source": [
    "# if you want to create beautiful and important graph use seaborn ."
   ]
  },
  {
   "cell_type": "markdown",
   "id": "48e6d2b3",
   "metadata": {},
   "source": [
    "# Types of Seaborn Graphics"
   ]
  },
  {
   "cell_type": "code",
   "execution_count": 4,
   "id": "45b8ea82",
   "metadata": {},
   "outputs": [],
   "source": [
    "# 1) Heatmap  (Mostly use in data science and machine learning and AI projects)\n",
    "# 2) Pair plot (Mostly use in data science and machine learning and AI projects)\n",
    "# 3) Facet grid\n",
    "# 4) Bar Plot\n",
    "# 5)Scatter Plot\n",
    "# 6)Line Plot\n",
    "# 7)Distplot\n",
    "# 8)Boxplot\n",
    "# 9)Violin plot\n"
   ]
  },
  {
   "cell_type": "markdown",
   "id": "ea9bf784",
   "metadata": {},
   "source": [
    "# Dependency of  Seaborn"
   ]
  },
  {
   "cell_type": "code",
   "execution_count": 1,
   "id": "de952110",
   "metadata": {},
   "outputs": [],
   "source": [
    "# 1) Python \n",
    "# 2) Numpy\n",
    "# 3) sciPy\n",
    "# 4) Pandas\n",
    "# 5) Matplotlib\n"
   ]
  },
  {
   "cell_type": "markdown",
   "id": "65b7ad3d",
   "metadata": {},
   "source": [
    "# Import Seaborn "
   ]
  },
  {
   "cell_type": "code",
   "execution_count": 2,
   "id": "8401d794",
   "metadata": {},
   "outputs": [],
   "source": [
    "# from matplotlib import as plt\n",
    "#           or\n",
    "# import matplotlib.pyplot as plt \n",
    "    \n",
    "# import seaborn as sns "
   ]
  },
  {
   "cell_type": "code",
   "execution_count": null,
   "id": "63dd0855",
   "metadata": {},
   "outputs": [],
   "source": [
    "# https://seaborn.pydata.org"
   ]
  }
 ],
 "metadata": {
  "kernelspec": {
   "display_name": "Python 3 (ipykernel)",
   "language": "python",
   "name": "python3"
  },
  "language_info": {
   "codemirror_mode": {
    "name": "ipython",
    "version": 3
   },
   "file_extension": ".py",
   "mimetype": "text/x-python",
   "name": "python",
   "nbconvert_exporter": "python",
   "pygments_lexer": "ipython3",
   "version": "3.10.2"
  }
 },
 "nbformat": 4,
 "nbformat_minor": 5
}
